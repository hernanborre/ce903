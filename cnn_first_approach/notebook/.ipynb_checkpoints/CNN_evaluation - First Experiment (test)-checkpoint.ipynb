{
 "cells": [
  {
   "cell_type": "markdown",
   "metadata": {},
   "source": [
    "*** This is the first implementation of our solution to radiology recognition\n"
   ]
  },
  {
   "cell_type": "code",
   "execution_count": 66,
   "metadata": {},
   "outputs": [
    {
     "name": "stdout",
     "output_type": "stream",
     "text": [
      "[name: \"/cpu:0\"\n",
      "device_type: \"CPU\"\n",
      "memory_limit: 268435456\n",
      "locality {\n",
      "}\n",
      "incarnation: 1855537921749895367\n",
      "]\n"
     ]
    }
   ],
   "source": [
    "from keras.models import Sequential\n",
    "from keras.layers import Conv2D\n",
    "from keras.layers import MaxPooling2D\n",
    "from keras.layers import Flatten\n",
    "from keras.layers import Dense\n",
    "from keras.preprocessing.image import ImageDataGenerator\n",
    "import numpy as np\n",
    "import math\n",
    "\n",
    "#Alert that shows if the CPU or GPU are working\n",
    "from tensorflow.python.client import device_lib\n",
    "print(device_lib.list_local_devices())"
   ]
  },
  {
   "cell_type": "code",
   "execution_count": 67,
   "metadata": {},
   "outputs": [],
   "source": [
    "def _preprocessing(test_file):\n",
    "    \"\"\"\n",
    "       Transforming the images into vectors\n",
    "       :param: training_file, folder in which all the trining images are, splitted into subfolders that indicates their classes\n",
    "       :param: validation_file, folder in which all the validation images are, splitted into subfolders that indicates their classes\n",
    "       :return: Both vectors that represent the images\n",
    "   \"\"\"\n",
    "    test_datagen = ImageDataGenerator(rescale=1. / 255)\n",
    "    test_set = test_datagen.flow_from_directory(test_file, target_size=(64, 64), batch_size=32, class_mode='categorical')\n",
    "    return test_set"
   ]
  },
  {
   "cell_type": "code",
   "execution_count": 68,
   "metadata": {},
   "outputs": [],
   "source": [
    "def _sequential_model():\n",
    "    \"\"\"\n",
    "        Defining the structure of the CNN that is going to be based on layers and receive images as inputs\n",
    "        :return: CNN already defined\n",
    "    \"\"\"\n",
    "\n",
    "    classifier = Sequential()\n",
    "    classifier.add(Conv2D(32, (3, 3), input_shape = (64, 64, 3), activation = 'relu'))\n",
    "    classifier.add(MaxPooling2D(pool_size = (2, 2)))\n",
    "    classifier.add(Flatten())\n",
    "    classifier.add(Dense(units = 50, activation = 'relu'))\n",
    "    classifier.add(Dense(units = 101, activation = 'softmax'))\n",
    "    #classifier.add(Dense(units = 10, activation = 'softmax'))\n",
    "    return classifier"
   ]
  },
  {
   "cell_type": "code",
   "execution_count": 69,
   "metadata": {},
   "outputs": [],
   "source": [
    "def _compilation(classifier):\n",
    "    \"\"\"\n",
    "        Chosing the activation function, the stochastic gradient descent algorithm and the performance metric\n",
    "        :param: classifier, CNN already defined and ready for its compilation\n",
    "        :return: CNN already compiled\n",
    "    \"\"\"\n",
    "\n",
    "    classifier.compile(optimizer = 'adam', loss = 'binary_crossentropy', metrics = ['accuracy'])\n",
    "    #classifier.summary()\n",
    "    return classifier"
   ]
  },
  {
   "cell_type": "code",
   "execution_count": 70,
   "metadata": {},
   "outputs": [],
   "source": [
    "def _evaluation(classifier, test_set, file):\n",
    "    \"\"\"\n",
    "       Evaluating the accuracy of the CNN with an unseen data set\n",
    "       :param: classifier, CNN already compiled\n",
    "       :param: test_set, ImageGenerator object of the images used for testing the CNN\n",
    "       :param: file, name of the file in which the weight of the CNN are going to be stored\n",
    "       :return: accuracy of the CNN\n",
    "   \"\"\"\n",
    "    classifier.load_weights(file)\n",
    "    scores = classifier.evaluate_generator(test_set, steps=100)\n",
    "    return scores"
   ]
  },
  {
   "cell_type": "code",
   "execution_count": 71,
   "metadata": {},
   "outputs": [],
   "source": [
    "def softmax(z):\n",
    "    z_exp = [math.exp(i) for i in z]\n",
    "    sum_z_exp = sum(z_exp)\n",
    "    return [i / sum_z_exp for i in z_exp]"
   ]
  },
  {
   "cell_type": "code",
   "execution_count": 72,
   "metadata": {},
   "outputs": [],
   "source": [
    "def _prediction(classifier):\n",
    "    \"\"\"\n",
    "         Perform predictions for given images in the tranined model\n",
    "         :param: classifier, CNN already prepared\n",
    "     \"\"\"\n",
    "    prediction_datagen = ImageDataGenerator(rescale=1. / 255)\n",
    "    prediction_set = prediction_datagen.flow_from_directory('prediction_set', target_size=(64, 64), batch_size=32, class_mode=None)\n",
    "    results = classifier.predict_generator(prediction_set)\n",
    "    predictions = np.argmax(results, axis=-1)  # multiple categories\n",
    "\n",
    "    print(\"Results\")\n",
    "    print(softmax(results[0]))\n",
    "    print(softmax(results[1]))\n",
    "    print(softmax(results[2]))\n",
    "    print(softmax(results[3]))\n",
    "    print(predictions)"
   ]
  },
  {
   "cell_type": "code",
   "execution_count": 74,
   "metadata": {},
   "outputs": [
    {
     "name": "stdout",
     "output_type": "stream",
     "text": [
      "Found 6917 images belonging to 101 classes.\n",
      "_________________________________________________________________\n",
      "Layer (type)                 Output Shape              Param #   \n",
      "=================================================================\n",
      "conv2d_10 (Conv2D)           (None, 62, 62, 32)        896       \n",
      "_________________________________________________________________\n",
      "max_pooling2d_10 (MaxPooling (None, 31, 31, 32)        0         \n",
      "_________________________________________________________________\n",
      "flatten_10 (Flatten)         (None, 30752)             0         \n",
      "_________________________________________________________________\n",
      "dense_19 (Dense)             (None, 50)                1537650   \n",
      "_________________________________________________________________\n",
      "dense_20 (Dense)             (None, 101)               5151      \n",
      "=================================================================\n",
      "Total params: 1,543,697\n",
      "Trainable params: 1,543,697\n",
      "Non-trainable params: 0\n",
      "_________________________________________________________________\n",
      "[0] loss: 5.36%\n",
      "[1] acc: 99.00%\n"
     ]
    }
   ],
   "source": [
    "from keras.preprocessing.image import ImageDataGenerator\n",
    "#Image preprocessing\n",
    "test_set = _preprocessing('CaptionTraining2018_ALL/test_set')\n",
    "\n",
    "#Defining and compiling the model\n",
    "model = _sequential_model()\n",
    "model = _compilation(model)\n",
    "\n",
    "#Evaluating the accuracy of the CNN\n",
    "scores = _evaluation(model, test_set, '3000_800_12.h5')\n",
    "print(\"[0] %s: %.2f%%\" % (model.metrics_names[0], scores[0] * 100))\n",
    "print(\"[1] %s: %.2f%%\" % (model.metrics_names[1], scores[1] * 100))\n",
    "\n",
    "#Predicting new images\n",
    "#_prediction(model)"
   ]
  },
  {
   "cell_type": "code",
   "execution_count": null,
   "metadata": {},
   "outputs": [],
   "source": []
  }
 ],
 "metadata": {
  "kernelspec": {
   "display_name": "Python [conda env:CNNMedium]",
   "language": "python",
   "name": "conda-env-CNNMedium-py"
  },
  "language_info": {
   "codemirror_mode": {
    "name": "ipython",
    "version": 3
   },
   "file_extension": ".py",
   "mimetype": "text/x-python",
   "name": "python",
   "nbconvert_exporter": "python",
   "pygments_lexer": "ipython3",
   "version": "3.6.4"
  }
 },
 "nbformat": 4,
 "nbformat_minor": 2
}
